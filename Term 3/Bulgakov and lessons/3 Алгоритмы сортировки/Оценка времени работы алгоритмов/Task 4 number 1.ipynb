{
 "nbformat": 4,
 "nbformat_minor": 0,
 "metadata": {
  "colab": {
   "name": "Task 4 number 1.ipynb",
   "provenance": [],
   "collapsed_sections": [],
   "authorship_tag": "ABX9TyMZHnKCrCeu1+xne3/YKHcE"
  },
  "kernelspec": {
   "name": "python3",
   "display_name": "Python 3"
  },
  "language_info": {
   "name": "python"
  }
 },
 "cells": [
  {
   "cell_type": "markdown",
   "metadata": {
    "id": "3mf2D3e1dGib",
    "pycharm": {
     "name": "#%% md\n"
    }
   },
   "source": [
    "### Task 4 number 1\n",
    "\n",
    "Бинарный поиск. Напишите алгоритм бинарного поиска в отсортированном по убыванию массиве.\n",
    "\n",
    "Оцените его вычислительную сложность.\n"
   ]
  },
  {
   "cell_type": "code",
   "metadata": {
    "id": "YNrmCjTUWZUm",
    "pycharm": {
     "name": "#%%\n"
    }
   },
   "source": [
    "# Будет возращать индекс искомого элемента\n",
    "\n",
    "def binary_search(descending_arr, search_for):\n",
    "    smallest_element_index = len(nums) - 1\n",
    "    biggest_element_index = 0\n",
    "    searched_num_index = None\n",
    "\n",
    "    while (biggest_element_index <= smallest_element_index) and (searched_num_index == None): #start searching cycle\n",
    "        mid = (smallest_element_index + biggest_element_index) // 2 #сounting middle\n",
    "\n",
    "        if nums[mid] == search_for:\n",
    "            searched_num_index = mid\n",
    "        else:\n",
    "            if search_for < nums[mid]: #Search in right part\n",
    "                biggest_element_index = mid + 1\n",
    "            else: #Search in left part\n",
    "                smallest_element_index = mid - 1\n",
    "\n",
    "    return searched_num_index\n",
    "\n",
    "\n",
    "nums = [0, 1, 2, 3, 4, 5, 6, 7, 8, 22]\n",
    "nums.sort(reverse=True)\n",
    "\n",
    "print(binary_search(nums, 0))\n",
    "\n"
   ],
   "execution_count": null,
   "outputs": []
  },
  {
   "cell_type": "markdown",
   "metadata": {
    "id": "RqgQGSBP6hMU",
    "pycharm": {
     "name": "#%% md\n"
    }
   },
   "source": [
    "Оценка вычислительной сложности\n",
    "\n",
    "Количество операций и принцип работы алгоритма бинарного поиска по массиву отсортированному по убыванию не отличается от тех, что были бы при работе с массивом отсортированным по возрастанию.\n",
    "\n",
    "Поэтому вычислительная сложность данного алгоритма - O(log(n))"
   ]
  }
 ]
}
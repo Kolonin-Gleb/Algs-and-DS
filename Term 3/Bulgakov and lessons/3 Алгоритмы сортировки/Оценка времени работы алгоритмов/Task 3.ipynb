{
 "nbformat": 4,
 "nbformat_minor": 0,
 "metadata": {
  "colab": {
   "name": "Task 3.ipynb",
   "provenance": [],
   "collapsed_sections": [],
   "authorship_tag": "ABX9TyOys33NJM5+itmY6N1XNKEK"
  },
  "kernelspec": {
   "name": "python3",
   "display_name": "Python 3"
  },
  "language_info": {
   "name": "python"
  }
 },
 "cells": [
  {
   "cell_type": "markdown",
   "metadata": {
    "id": "bT86aJU2HAoS",
    "pycharm": {
     "name": "#%% md\n"
    }
   },
   "source": [
    "Task 3"
   ]
  },
  {
   "cell_type": "code",
   "metadata": {
    "id": "FwC_bUPCAr-M",
    "colab": {
     "base_uri": "https://localhost:8080/"
    },
    "executionInfo": {
     "status": "ok",
     "timestamp": 1631809865311,
     "user_tz": -180,
     "elapsed": 249,
     "user": {
      "displayName": "Глеб Колонин",
      "photoUrl": "https://lh3.googleusercontent.com/a/default-user=s64",
      "userId": "16800121630135430864"
     }
    },
    "outputId": "15ce0dde-f3be-41de-d386-bdaa3b62daa5",
    "pycharm": {
     "name": "#%%\n"
    }
   },
   "source": [
    "def foo(arr):\n",
    "  # range(start, stop, step)\n",
    "  for i in range(len(arr), 0, -1): # Идём по массиву с последнего элемента\n",
    "    for j in range(1, i): #Сортируем массив\n",
    "      if arr[j-1] > arr[j]:\n",
    "        arr[j-1], arr[j] = arr[j], arr[j-1] #Меняем элементы местами\n",
    "  return arr\n",
    "\n",
    "arr = [1, 2, 3, 4, 2, 1, 3, 4, 3, 5, -2, 2, -2, 65, 2, 2] # len = 16\n",
    "foo(arr)\n",
    "\n",
    "# Это сортировка пузырьком!\n",
    "# Вычисление сложности алг. сортировки пузырьком\n",
    "# Данный алг. меняет элементы местами, поэтому время для его завершения быстро растёт при росте входных данных\n",
    "# Ответ: O(n^2)"
   ],
   "execution_count": 2,
   "outputs": [
    {
     "output_type": "execute_result",
     "data": {
      "text/plain": [
       "[-2, -2, 1, 1, 2, 2, 2, 2, 2, 3, 3, 3, 4, 4, 5, 65]"
      ]
     },
     "metadata": {},
     "execution_count": 2
    }
   ]
  }
 ]
}
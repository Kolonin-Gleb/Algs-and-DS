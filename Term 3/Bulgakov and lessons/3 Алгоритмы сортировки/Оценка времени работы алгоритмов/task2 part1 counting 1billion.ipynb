{
 "nbformat": 4,
 "nbformat_minor": 0,
 "metadata": {
  "colab": {
   "name": "task2 part1 counting 1billion.ipynb",
   "provenance": [],
   "authorship_tag": "ABX9TyNuPzyEwLKFYnKnce6wk7+9"
  },
  "kernelspec": {
   "name": "python3",
   "display_name": "Python 3"
  },
  "language_info": {
   "name": "python"
  }
 },
 "cells": [
  {
   "cell_type": "code",
   "metadata": {
    "colab": {
     "base_uri": "https://localhost:8080/"
    },
    "id": "jwCESmg5TphD",
    "executionInfo": {
     "status": "ok",
     "timestamp": 1631807561724,
     "user_tz": -180,
     "elapsed": 1435,
     "user": {
      "displayName": "Глеб Колонин",
      "photoUrl": "https://lh3.googleusercontent.com/a/default-user=s64",
      "userId": "16800121630135430864"
     }
    },
    "outputId": "a8149bfc-e8ec-4d48-ec14-7e9fd83d3fdc",
    "pycharm": {
     "name": "#%%\n"
    }
   },
   "source": [
    "#task 2.1\n",
    "\n",
    "# Для засечения времени\n",
    "import time\n",
    "\n",
    "#Считаем до 1.000.000.000\n",
    "count = 1000000000\n",
    "i = 0\n",
    "\n",
    "start = time.time()\n",
    "\n",
    "while i <= count:\n",
    "    i+=1\n",
    "\n",
    "end = time.time()\n",
    "\n",
    "time_spent = end - start\n",
    "\n",
    "print(\"Чтобы досчитать до 1 млрд моему пк нужно = \" + str(time_spent))\n"
   ],
   "execution_count": 2,
   "outputs": [
    {
     "output_type": "stream",
     "name": "stdout",
     "text": [
      "Чтобы досчитать до 1 млрд моему пк нужно = 1.1865334510803223\n"
     ]
    }
   ]
  }
 ]
}
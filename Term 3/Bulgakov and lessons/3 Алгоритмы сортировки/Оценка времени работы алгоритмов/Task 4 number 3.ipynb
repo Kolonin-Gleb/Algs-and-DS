{
 "nbformat": 4,
 "nbformat_minor": 0,
 "metadata": {
  "colab": {
   "name": "Task 4 number 3.ipynb",
   "provenance": [],
   "collapsed_sections": [],
   "authorship_tag": "ABX9TyNVqpYYqdNQDh/0yqq/gkVx"
  },
  "kernelspec": {
   "name": "python3",
   "display_name": "Python 3"
  },
  "language_info": {
   "name": "python"
  }
 },
 "cells": [
  {
   "cell_type": "code",
   "metadata": {
    "colab": {
     "base_uri": "https://localhost:8080/"
    },
    "id": "9oYTmCUTFMW1",
    "executionInfo": {
     "status": "ok",
     "timestamp": 1631854998337,
     "user_tz": -180,
     "elapsed": 218,
     "user": {
      "displayName": "Глеб Колонин",
      "photoUrl": "https://lh3.googleusercontent.com/a/default-user=s64",
      "userId": "16800121630135430864"
     }
    },
    "outputId": "aa6ad239-d5ee-48c9-fea6-0c41123b0b88",
    "pycharm": {
     "name": "#%%\n"
    }
   },
   "source": [
    "# Спрашивают о эффективности, а не о сложности алгоритма.\n",
    "# Поэтому нельзя использовать свойство.\n",
    "# Нужно найти n, при котором кол. операций 1 алгоритма <  кол. операций 2\n",
    "\n",
    "n = 1 # Минимальные входные данные\n",
    "\n",
    "first_alg_operations = 100 * n**2\n",
    "second_alg_operations = 2**n\n",
    "\n",
    "while first_alg_operations >= second_alg_operations:\n",
    "  n+=1\n",
    "  first_alg_operations = 100 * n**2\n",
    "  second_alg_operations = 2**n\n",
    "\n",
    "print(n)\n",
    "# Ответ 15"
   ],
   "execution_count": 12,
   "outputs": [
    {
     "output_type": "stream",
     "name": "stdout",
     "text": [
      "15\n"
     ]
    }
   ]
  }
 ]
}